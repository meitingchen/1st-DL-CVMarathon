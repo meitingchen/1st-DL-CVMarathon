{
 "cells": [
  {
   "cell_type": "markdown",
   "metadata": {},
   "source": [
    "## 練習時間\n",
    "#### 請寫一個函式用來計算 Mean Square Error\n",
    "$ MSE = \\frac{1}{n}\\sum_{i=1}^{n}{(Y_i - \\hat{Y}_i)^2} $\n",
    "\n",
    "### Hint: [如何取平方](https://googoodesign.gitbooks.io/-ezpython/unit-1.html)"
   ]
  },
  {
   "cell_type": "code",
   "execution_count": 2,
   "metadata": {},
   "outputs": [],
   "source": [
    "import math\n",
    "import numpy as np\n",
    "import matplotlib.pyplot as plt"
   ]
  },
  {
   "cell_type": "markdown",
   "metadata": {},
   "source": [
    "# [作業目標]\n",
    "- 仿造範例的MAE函數, 自己寫一個MSE函數(參考上面公式)"
   ]
  },
  {
   "cell_type": "markdown",
   "metadata": {},
   "source": [
    "# [作業重點]\n",
    "- 注意程式的縮排\n",
    "- 是否能將數學公式, 轉換為 Python 的函式組合? (In[2], Out[2])"
   ]
  },
  {
   "cell_type": "code",
   "execution_count": 9,
   "metadata": {},
   "outputs": [],
   "source": [
    "# 載入基礎套件與代稱\n",
    "import numpy as np\n",
    "import matplotlib.pyplot as plt"
   ]
  },
  {
   "cell_type": "code",
   "execution_count": 10,
   "metadata": {},
   "outputs": [],
   "source": [
    "def mean_absolute_error(y, yp):\n",
    "    \"\"\"\n",
    "    計算 MAE\n",
    "    Args:\n",
    "        - y: 實際值\n",
    "        - yp: 預測值\n",
    "    Return:\n",
    "        - mae: MAE\n",
    "        abs 絕對值\n",
    "        len 有幾個數值\n",
    "    \"\"\"\n",
    "    mae = MAE = sum(abs(y - yp)) / len(y)\n",
    "    return mae\n",
    "\n",
    "# 定義 mean_squared_error 這個函數, 計算並傳回 MSE\n",
    "def mean_squared_error(y, yp):\n",
    "    \"\"\"\n",
    "    請完成這個 Function 後往下執行\n",
    "    \"\"\"\n",
    "    mse=MSE=math.pow(sum(abs(y - yp)),2)\n",
    "    return mse"
   ]
  },
  {
   "cell_type": "code",
   "execution_count": 23,
   "metadata": {},
   "outputs": [
    {
     "data": {
      "image/png": "[encoded data removed]",
      "text/plain": [
       "<matplotlib.figure.Figure at 0x16bbafe5048>"
      ]
     },
     "metadata": {},
     "output_type": "display_data"
    }
   ],
   "source": [
    "# 與範例相同, 不另外解說\n",
    "w = 3\n",
    "b = 0.5\n",
    "x_lin = np.linspace(0, 100, 101)\n",
    "y = (x_lin + np.random.randn(101) * 5) * w + b\n",
    "\n",
    "plt.plot(x_lin, y, 'r.', label = 'data points')\n",
    "plt.title(\"Assume we have data points\")\n",
    "plt.legend(loc = 2)\n",
    "plt.show()"
   ]
  },
  {
   "cell_type": "code",
   "execution_count": 14,
   "metadata": {},
   "outputs": [
    {
     "name": "stdout",
     "output_type": "stream",
     "text": [
      "[  0.   1.   2.   3.   4.   5.   6.   7.   8.   9.  10.  11.  12.  13.\n",
      "  14.  15.  16.  17.  18.  19.  20.  21.  22.  23.  24.  25.  26.  27.\n",
      "  28.  29.  30.  31.  32.  33.  34.  35.  36.  37.  38.  39.  40.  41.\n",
      "  42.  43.  44.  45.  46.  47.  48.  49.  50.  51.  52.  53.  54.  55.\n",
      "  56.  57.  58.  59.  60.  61.  62.  63.  64.  65.  66.  67.  68.  69.\n",
      "  70.  71.  72.  73.  74.  75.  76.  77.  78.  79.  80.  81.  82.  83.\n",
      "  84.  85.  86.  87.  88.  89.  90.  91.  92.  93.  94.  95.  96.  97.\n",
      "  98.  99. 100.]\n"
     ]
    }
   ],
   "source": [
    "print(x_lin )"
   ]
  },
  {
   "cell_type": "code",
   "execution_count": 15,
   "metadata": {},
   "outputs": [
    {
     "name": "stdout",
     "output_type": "stream",
     "text": [
      "[-12.15896489   6.78618012  12.87318581  27.68071478  -0.7128449\n",
      "  25.28317279  29.31833204  -0.59304798  29.0660364   13.63090263\n",
      "  24.35438468  52.60385457  67.7439586   50.7760264   38.91388539\n",
      "  28.7248297   75.69307137  10.32517331  52.34398109  89.20686398\n",
      "  65.8318516   68.85914895  58.38035125  63.601749    77.21269497\n",
      "  94.5426227   97.37273632  89.44260638  78.54841858  78.92650985\n",
      "  91.82862136  60.69422978 111.97860892  79.63177059  95.63441286\n",
      " 104.50946436  89.71427932 110.75816649 111.93071848 116.03044665\n",
      " 139.1659028  146.53799827 131.41522357 112.64076457 122.74354207\n",
      " 134.69872624 120.62695726 155.68262662 102.4586954  149.63089101\n",
      " 159.47975742 165.93484923 154.47482469 177.22738428 153.00202413\n",
      " 178.5644795  161.45382536 152.70263564 168.85573199 160.56348288\n",
      " 194.58062482 190.75440326 183.02797662 165.0937721  208.51540656\n",
      " 199.37759466 210.36469146 179.77563499 193.23145718 200.15790216\n",
      " 206.57492404 228.59691011 220.65756423 201.20321873 217.46496284\n",
      " 223.49006112 213.10716415 216.79178916 214.96386944 233.27415232\n",
      " 237.83863234 240.87095238 245.03505451 280.87729028 284.50789167\n",
      " 246.83998477 253.53182266 252.58100313 258.86161465 287.64625304\n",
      " 283.82383983 309.93082749 278.62427012 284.28802883 285.56812707\n",
      " 300.5742604  297.81124491 286.96987597 316.11609509 281.21811679\n",
      " 316.61302372]\n"
     ]
    }
   ],
   "source": [
    "print(y)"
   ]
  },
  {
   "cell_type": "code",
   "execution_count": 24,
   "metadata": {},
   "outputs": [
    {
     "data": {
      "image/png": "[encoded data removed]",
      "text/plain": [
       "<matplotlib.figure.Figure at 0x16bbb1a5400>"
      ]
     },
     "metadata": {},
     "output_type": "display_data"
    }
   ],
   "source": [
    "# 與範例相同, 不另外解說\n",
    "y_hat = x_lin * w + b\n",
    "plt.plot(x_lin, y, 'b.', label = 'data')\n",
    "plt.plot(x_lin, y_hat, 'r-', label = 'prediction')\n",
    "plt.title(\"Assume we have data points (And the prediction)\")\n",
    "plt.legend(loc = 2)\n",
    "plt.show()"
   ]
  },
  {
   "cell_type": "code",
   "execution_count": 26,
   "metadata": {},
   "outputs": [
    {
     "name": "stdout",
     "output_type": "stream",
     "text": [
      "The Mean squared error is 1660179.076\n",
      "The Mean absolute error is 12.757\n"
     ]
    }
   ],
   "source": [
    "# 執行 Function, 確認有沒有正常執行\n",
    "MSE = mean_squared_error(y, y_hat)\n",
    "MAE = mean_absolute_error(y, y_hat)\n",
    "print(\"The Mean squared error is %.3f\" % (MSE))\n",
    "print(\"The Mean absolute error is %.3f\" % (MAE))"
   ]
  },
  {
   "cell_type": "markdown",
   "metadata": {},
   "source": [
    "# [作業2]\n",
    "\n",
    "請上 Kaggle, 在 Competitions 或 Dataset 中找一組競賽或資料並寫下：\n",
    "\n",
    "1. 你選的這組資料為何重要\n",
    "\n",
    "2. 資料從何而來 (tips: 譬如提供者是誰、以什麼方式蒐集)\n",
    "\n",
    "3. 蒐集而來的資料型態為何\n",
    "\n",
    "4. 這組資料想解決的問題如何評估\n",
    "\n",
    "# [作業3]\n",
    "\n",
    "想像你經營一個自由載客車隊，你希望能透過數據分析以提升業績，請你思考並描述你如何規劃整體的分析/解決方案：\n",
    "\n",
    "1. 核心問題為何 (tips：如何定義 「提升業績 & 你的假設」)\n",
    "\n",
    "2. 資料從何而來 (tips：哪些資料可能會對你想問的問題產生影響 & 資料如何蒐集)\n",
    "\n",
    "3. 蒐集而來的資料型態為何\n",
    "\n",
    "4. 你要回答的問題，其如何評估 (tips：你的假設如何驗證)"
   ]
  },
  {
   "cell_type": "markdown",
   "metadata": {},
   "source": [
    "# 作業二\n",
    "## Trending YouTube Video Statistics\n",
    "### 1. 你選的這組資料為何重要\n",
    "youtube影音平台在多媒體之中一直都站著重要地位。在影音風格以及主題不同之下，逐漸也需要建立許多分類。然而我們想要利用分類來探討流量相關分析。可以藉由流量，進而去發掘近期消費者趨勢，以及相關產業未來走向。意味流量對於現今各產業會是重要指標。\n",
    "\n",
    "### 2. 資料從何而來 (tips: 譬如提供者是誰、以什麼方式蒐集)\n",
    "提供者會是youtube平台上的創作者，可能藉由影片下方評論或者創作者的影片信息來獲取資料\n",
    "\n",
    "### 3. 蒐集而來的資料型態為何\n",
    "資料型態可能為文字，聲音，為非結構化資料型態\n",
    "\n",
    "### 4. 這組資料想解決的問題如何評估\n",
    "必須先藉由機器學習演算進行建立影片分類，奠定創作者影片隸屬類別，才將影片流量油高至低排序。"
   ]
  },
  {
   "cell_type": "markdown",
   "metadata": {},
   "source": [
    "# 作業三\n",
    "## 想像你經營一個自由載客車隊，你希望能透過數據分析以提升業績，請你思考並描述你如何規劃整體的分析/解決方案：\n",
    "\n",
    "\n",
    "### 1.核心問題為何 (tips：如何定義 「提升業績 & 你的假設」)\n",
    "每個顧客在建立個人資料下可以先觀察到他隸屬縣市以及區，藉由多筆資料建立下去安排各個地區車隊需求人數。此提升業績辦法在於用最少人力支配相當載客人數。\n",
    "### 2.資料從何而來 (tips：哪些資料可能會對你想問的問題產生影響 & 資料如何蒐集)\n",
    "資寮為自由載客車隊系統管理下，消費者註冊之建檔。\n",
    "蒐集方法:會員註冊\n",
    "淺在風險:顧客可能會謊報所在地區\n",
    "\n",
    "### 3.蒐集而來的資料型態為何\n",
    "資料由於為建檔管理，因此文字訊息為結構式\n",
    "\n",
    "### 4.你要回答的問題，其如何評估 (tips：你的假設如何驗證)\n",
    "載客車隊可利用定位去接送顧客，因此藉由app開啟中可以準確掌握顧客位置，再藉由假設與實際位置相照對去檢視結果是否輔和期待。"
   ]
  },
  {
   "cell_type": "code",
   "execution_count": null,
   "metadata": {},
   "outputs": [],
   "source": []
  }
 ],
 "metadata": {
  "anaconda-cloud": {},
  "kernelspec": {
   "display_name": "Python 3",
   "language": "python",
   "name": "python3"
  },
  "language_info": {
   "codemirror_mode": {
    "name": "ipython",
    "version": 3
   },
   "file_extension": ".py",
   "mimetype": "text/x-python",
   "name": "python",
   "nbconvert_exporter": "python",
   "pygments_lexer": "ipython3",
   "version": "3.6.4"
  }
 },
 "nbformat": 4,
 "nbformat_minor": 1
}
